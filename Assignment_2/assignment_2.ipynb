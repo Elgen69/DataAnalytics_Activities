{
 "cells": [
  {
   "cell_type": "markdown",
   "metadata": {},
   "source": [
    "# **Data Visualization Assignment**\n",
    "### **Data Analytics Course - Implementation Notebook**\n",
    "\n",
    "## 📌 **Objective**\n",
    "This notebook implements various **data visualization techniques** to analyze three given datasets:\n",
    "- **bar_assignment.csv** (for a horizontal stacked bar chart)\n",
    "- **sankey_assignment.csv** (for a Sankey diagram)\n",
    "- **networks_assignment.csv** (for a network graph)\n",
    "\n",
    "The primary objective is to accurately represent the data using prescribed visualization formats while maintaining clarity and consistency in design.\n",
    "\n",
    "## 🔹 **Workflow Overview**\n",
    "1. **Load the datasets** and preprocess the data.\n",
    "2. **Generate visualizations** following given specifications:\n",
    "   - **Bar Chart:** Transform `1` into \"Yes\" and `0` into \"No\" and create a horizontal stacked bar chart.\n",
    "   - **Sankey Diagram:** Connect specified categories and follow given path specifications.\n",
    "   - **Network Graph:** Construct a graph with a pentagram structure for key nodes and appropriate color coding for other nodes.\n",
    "3. **Collate all visualizations** into a single composite image suitable for printing.\n",
    "\n",
    "The implementation will ensure that the same font and font size are maintained across all visualizations for consistency.\n",
    "\n",
    "---"
   ]
  },
  {
   "cell_type": "markdown",
   "metadata": {},
   "source": [
    "## Bar Graph Analysis\n",
    "\n",
    "### Introduction\n",
    "This section focuses on creating a **horizontal stacked bar chart** using the given dataset. We will:\n",
    "- Convert `1` into \"Yes\" and `0` into \"No\".\n",
    "- Group the data by labels and count occurrences of \"Yes\" and \"No\".\n",
    "- Visualize the results following the specified format and color scheme.\n",
    "\n",
    "---\n",
    "\n"
   ]
  },
  {
   "cell_type": "markdown",
   "metadata": {},
   "source": [
    "## Step 1: Load the Dataset\n",
    "### 📌 **Loading the Dataset**\n",
    "The first step in this process is to read the dataset into a pandas DataFrame.\n",
    "We will check the structure of the dataset to understand how the values are represented.\n"
   ]
  },
  {
   "cell_type": "code",
   "execution_count": 1,
   "metadata": {},
   "outputs": [
    {
     "name": "stdout",
     "output_type": "stream",
     "text": [
      "Current Working Directory: c:\\Users\\Shawn\\OneDrive\\Desktop\\Programming\\DataAnalytics_Activities\\Assignment_2\n",
      "Files in Directory: ['assignment_2.ipynb', 'bar_assignment.csv', 'networks_assignment.csv', 'sankey_assignment.csv']\n",
      "File loaded successfully!\n",
      "  LABEL  COUNT\n",
      "0     D      1\n",
      "1     D      1\n",
      "2     D      0\n",
      "3     D      1\n",
      "4     F      1\n"
     ]
    }
   ],
   "source": [
    "import pandas as pd\n",
    "import os\n",
    "\n",
    "# Check current working directory\n",
    "print(\"Current Working Directory:\", os.getcwd())\n",
    "\n",
    "# List files in the directory to verify presence of 'bar_assignment.csv'\n",
    "print(\"Files in Directory:\", os.listdir())\n",
    "\n",
    "# Load the dataset\n",
    "file_path = \"bar_assignment.csv\"\n",
    "df = None  # Define df beforehand to avoid NameError\n",
    "\n",
    "# Try loading the file\n",
    "try:\n",
    "    df = pd.read_csv(file_path)\n",
    "    print(\"File loaded successfully!\")\n",
    "    print(df.head())  # Display first few rows\n",
    "except FileNotFoundError:\n",
    "    print(\"Error: File not found. Check the file path and ensure it's in the correct directory.\")\n",
    "\n",
    "# Check if df is successfully loaded\n",
    "if df is None:\n",
    "    print(\"DataFrame is not loaded. Please check the file path.\")\n"
   ]
  },
  {
   "cell_type": "markdown",
   "metadata": {},
   "source": [
    "## Step 2: Transform Data\n",
    "### 📌 **Processing and Transforming Data**\n",
    "In this step, we convert the numerical values `1` into \"Yes\" and `0` into \"No\".\n",
    "We will then group the data by labels to count occurrences of each category.\n"
   ]
  },
  {
   "cell_type": "code",
   "execution_count": 2,
   "metadata": {},
   "outputs": [
    {
     "data": {
      "text/html": [
       "<div>\n",
       "<style scoped>\n",
       "    .dataframe tbody tr th:only-of-type {\n",
       "        vertical-align: middle;\n",
       "    }\n",
       "\n",
       "    .dataframe tbody tr th {\n",
       "        vertical-align: top;\n",
       "    }\n",
       "\n",
       "    .dataframe thead th {\n",
       "        text-align: right;\n",
       "    }\n",
       "</style>\n",
       "<table border=\"1\" class=\"dataframe\">\n",
       "  <thead>\n",
       "    <tr style=\"text-align: right;\">\n",
       "      <th>Response</th>\n",
       "      <th>No</th>\n",
       "      <th>Yes</th>\n",
       "    </tr>\n",
       "    <tr>\n",
       "      <th>LABEL</th>\n",
       "      <th></th>\n",
       "      <th></th>\n",
       "    </tr>\n",
       "  </thead>\n",
       "  <tbody>\n",
       "    <tr>\n",
       "      <th>D</th>\n",
       "      <td>1.0</td>\n",
       "      <td>3.0</td>\n",
       "    </tr>\n",
       "    <tr>\n",
       "      <th>F</th>\n",
       "      <td>2.0</td>\n",
       "      <td>2.0</td>\n",
       "    </tr>\n",
       "    <tr>\n",
       "      <th>I</th>\n",
       "      <td>0.0</td>\n",
       "      <td>1.0</td>\n",
       "    </tr>\n",
       "    <tr>\n",
       "      <th>N</th>\n",
       "      <td>1.0</td>\n",
       "      <td>2.0</td>\n",
       "    </tr>\n",
       "    <tr>\n",
       "      <th>S</th>\n",
       "      <td>5.0</td>\n",
       "      <td>5.0</td>\n",
       "    </tr>\n",
       "  </tbody>\n",
       "</table>\n",
       "</div>"
      ],
      "text/plain": [
       "Response   No  Yes\n",
       "LABEL             \n",
       "D         1.0  3.0\n",
       "F         2.0  2.0\n",
       "I         0.0  1.0\n",
       "N         1.0  2.0\n",
       "S         5.0  5.0"
      ]
     },
     "execution_count": 2,
     "metadata": {},
     "output_type": "execute_result"
    }
   ],
   "source": [
    "# Convert 1 to 'Yes' and 0 to 'No'\n",
    "df['Response'] = df['COUNT'].map({1: 'Yes', 0: 'No'})\n",
    "\n",
    "# Count occurrences of Yes and No per label\n",
    "bar_summary = df.groupby(\"LABEL\")['Response'].value_counts().unstack().fillna(0)\n",
    "\n",
    "# Display transformed data\n",
    "bar_summary\n"
   ]
  },
  {
   "cell_type": "markdown",
   "metadata": {},
   "source": [
    "## Step 3: Generate Horizontal Stacked Bar Chart\n",
    "### 📌 **Creating the Bar Chart**\n",
    "Now, we will generate a **horizontal stacked bar chart** using Matplotlib. \n"
   ]
  },
  {
   "cell_type": "code",
   "execution_count": 3,
   "metadata": {},
   "outputs": [
    {
     "data": {
      "image/png": "[encoded data removed]",
      "text/plain": [
       "<Figure size 800x600 with 1 Axes>"
      ]
     },
     "metadata": {},
     "output_type": "display_data"
    }
   ],
   "source": [
    "import matplotlib.pyplot as plt\n",
    "\n",
    "# Define colors for Yes and No\n",
    "colors = {\"No\": \"red\", \"Yes\": \"blue\"}\n",
    "\n",
    "# Plot the stacked bar chart\n",
    "fig, ax = plt.subplots(figsize=(8, 6))\n",
    "bar_summary.plot(kind=\"barh\", stacked=True, color=[colors[\"No\"], colors[\"Yes\"]], ax=ax)\n",
    "\n",
    "# Add labels and title\n",
    "ax.set_xlabel(\"Count\")\n",
    "ax.set_ylabel(\"Labels\")\n",
    "ax.set_title(\"Stacked Bar Chart Representation\")\n",
    "ax.legend([\"No\", \"Yes\"], title=\"Legend\", loc=\"upper right\")\n",
    "\n",
    "# Annotate values on bars\n",
    "for i, (no, yes) in enumerate(zip(bar_summary[\"No\"], bar_summary[\"Yes\"])):\n",
    "    ax.text(no / 2, i, str(int(no)), va=\"center\", ha=\"center\", color=\"white\", fontsize=12, fontweight=\"bold\")\n",
    "    ax.text(no + yes / 2, i, str(int(yes)), va=\"center\", ha=\"center\", color=\"white\", fontsize=12, fontweight=\"bold\")\n",
    "\n",
    "# Show the plot\n",
    "plt.show()\n"
   ]
  }
 ],
 "metadata": {
  "kernelspec": {
   "display_name": "Python 3",
   "language": "python",
   "name": "python3"
  },
  "language_info": {
   "codemirror_mode": {
    "name": "ipython",
    "version": 3
   },
   "file_extension": ".py",
   "mimetype": "text/x-python",
   "name": "python",
   "nbconvert_exporter": "python",
   "pygments_lexer": "ipython3",
   "version": "3.12.4"
  }
 },
 "nbformat": 4,
 "nbformat_minor": 2
}
