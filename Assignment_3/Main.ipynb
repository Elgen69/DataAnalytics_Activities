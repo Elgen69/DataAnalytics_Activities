{
 "cells": [
  {
   "cell_type": "markdown",
   "metadata": {},
   "source": [
    "<div style=\"text-align:center;\">\n",
    "    <h1>Data-driven Estimation of Pharmacological Prescription Duration using Python</h1>\n",
    "    <h3>Assignment 3 - Implementation and EDA</h3>\n",
    "    <h4>Authors:</h4>\n",
    "    <ul style=\"list-style:none;\">\n",
    "        <li>👤 Elgen Mar Arinasa</li>\n",
    "        <li>👤 Shawn Jurgen Mayol</li>\n",
    "    </ul>\n",
    "    <hr>\n",
    "</div>\n"
   ]
  },
  {
   "cell_type": "markdown",
   "metadata": {},
   "source": [
    "<h2 style=\"color:#4B0082;\">📖 Introduction</h2>\n",
    "<p>\n",
    "    Accurate estimation of prescription durations is critical in pharmacoepidemiological research to assess medication adherence, efficacy, and patient safety. Due to missing or imprecise data, innovative methods like the Sessa Empirical Estimator (SEE) using clustering techniques become valuable. This notebook will demonstrate initial preprocessing and exploratory analysis steps on the provided dataset (<code>medeventsATC.csv</code>) prior to applying clustering methods such as K-Means and DBSCAN in SEE.\n",
    "</p>\n"
   ]
  },
  {
   "cell_type": "markdown",
   "metadata": {},
   "source": [
    "<h2 style=\"color:#4B0082;\">🎯 Objectives</h2>\n",
    "<p>This notebook aims to accomplish the following tasks comprehensively:</p>\n",
    "<ol>\n",
    "    <li><strong>Load and inspect</strong> the provided dataset for preliminary insights.</li>\n",
    "    <li><strong>Clean and preprocess</strong> the dataset to prepare for robust analysis.</li>\n",
    "    <li>Conduct thorough <strong>Exploratory Data Analysis (EDA)</strong> to understand data patterns and distributions clearly.</li>\n",
    "    <li><strong>Implement</strong> the <em>Sessa Empirical Estimator (SEE)</em> using <strong>K-Means clustering</strong>.</li>\n",
    "    <li><strong>Implement</strong> the <em>Sessa Empirical Estimator (SEE)</em> using <strong>DBSCAN clustering</strong> as an alternative approach.</li>\n",
    "    <li><strong>Perform comparative analyses and visualizations</strong> to evaluate and interpret the effectiveness of both clustering techniques.</li>\n",
    "    <li><strong>Provide comprehensive conclusions, insights, and a detailed discussion</strong> of findings, highlighting the strengths and weaknesses of the clustering methodologies used.</li>\n",
    "</ol>\n"
   ]
  },
  {
   "cell_type": "markdown",
   "metadata": {},
   "source": []
  },
  {
   "cell_type": "markdown",
   "metadata": {},
   "source": [
    "<h2 style=\"color:#4B0082;\">📂 Data Loading and Initial Inspection</h2>\n",
    "<p>First, we load the provided dataset and perform basic inspection to understand its structure and contents.</p>\n"
   ]
  },
  {
   "cell_type": "code",
   "execution_count": 1,
   "metadata": {},
   "outputs": [
    {
     "name": "stdout",
     "output_type": "stream",
     "text": [
      "Dataset Dimensions: (1564, 7)\n"
     ]
    },
    {
     "data": {
      "text/html": [
       "<div>\n",
       "<style scoped>\n",
       "    .dataframe tbody tr th:only-of-type {\n",
       "        vertical-align: middle;\n",
       "    }\n",
       "\n",
       "    .dataframe tbody tr th {\n",
       "        vertical-align: top;\n",
       "    }\n",
       "\n",
       "    .dataframe thead th {\n",
       "        text-align: right;\n",
       "    }\n",
       "</style>\n",
       "<table border=\"1\" class=\"dataframe\">\n",
       "  <thead>\n",
       "    <tr style=\"text-align: right;\">\n",
       "      <th></th>\n",
       "      <th>PATIENT_ID</th>\n",
       "      <th>DATE</th>\n",
       "      <th>DURATION</th>\n",
       "      <th>PERDAY</th>\n",
       "      <th>CATEGORY</th>\n",
       "      <th>CATEGORY_L1</th>\n",
       "      <th>CATEGORY_L2</th>\n",
       "    </tr>\n",
       "  </thead>\n",
       "  <tbody>\n",
       "    <tr>\n",
       "      <th>0</th>\n",
       "      <td>1</td>\n",
       "      <td>2057-09-04</td>\n",
       "      <td>28.000000</td>\n",
       "      <td>20.0</td>\n",
       "      <td>A02BC02</td>\n",
       "      <td>ALIMENTARY TRACT AND METABOLISM</td>\n",
       "      <td>DRUGS FOR ACID RELATED DISORDERS</td>\n",
       "    </tr>\n",
       "    <tr>\n",
       "      <th>1</th>\n",
       "      <td>1</td>\n",
       "      <td>2058-06-03</td>\n",
       "      <td>28.000000</td>\n",
       "      <td>20.0</td>\n",
       "      <td>A02BC02</td>\n",
       "      <td>ALIMENTARY TRACT AND METABOLISM</td>\n",
       "      <td>DRUGS FOR ACID RELATED DISORDERS</td>\n",
       "    </tr>\n",
       "    <tr>\n",
       "      <th>2</th>\n",
       "      <td>1</td>\n",
       "      <td>2058-07-09</td>\n",
       "      <td>28.000000</td>\n",
       "      <td>20.0</td>\n",
       "      <td>A02BC02</td>\n",
       "      <td>ALIMENTARY TRACT AND METABOLISM</td>\n",
       "      <td>DRUGS FOR ACID RELATED DISORDERS</td>\n",
       "    </tr>\n",
       "    <tr>\n",
       "      <th>3</th>\n",
       "      <td>1</td>\n",
       "      <td>2056-10-09</td>\n",
       "      <td>41.666667</td>\n",
       "      <td>36000.0</td>\n",
       "      <td>A09AA02</td>\n",
       "      <td>ALIMENTARY TRACT AND METABOLISM</td>\n",
       "      <td>DIGESTIVES, INCL. ENZYMES</td>\n",
       "    </tr>\n",
       "    <tr>\n",
       "      <th>4</th>\n",
       "      <td>1</td>\n",
       "      <td>2056-12-10</td>\n",
       "      <td>40.000000</td>\n",
       "      <td>36000.0</td>\n",
       "      <td>A09AA02</td>\n",
       "      <td>ALIMENTARY TRACT AND METABOLISM</td>\n",
       "      <td>DIGESTIVES, INCL. ENZYMES</td>\n",
       "    </tr>\n",
       "  </tbody>\n",
       "</table>\n",
       "</div>"
      ],
      "text/plain": [
       "   PATIENT_ID        DATE   DURATION   PERDAY CATEGORY  \\\n",
       "0           1  2057-09-04  28.000000     20.0  A02BC02   \n",
       "1           1  2058-06-03  28.000000     20.0  A02BC02   \n",
       "2           1  2058-07-09  28.000000     20.0  A02BC02   \n",
       "3           1  2056-10-09  41.666667  36000.0  A09AA02   \n",
       "4           1  2056-12-10  40.000000  36000.0  A09AA02   \n",
       "\n",
       "                       CATEGORY_L1                       CATEGORY_L2  \n",
       "0  ALIMENTARY TRACT AND METABOLISM  DRUGS FOR ACID RELATED DISORDERS  \n",
       "1  ALIMENTARY TRACT AND METABOLISM  DRUGS FOR ACID RELATED DISORDERS  \n",
       "2  ALIMENTARY TRACT AND METABOLISM  DRUGS FOR ACID RELATED DISORDERS  \n",
       "3  ALIMENTARY TRACT AND METABOLISM         DIGESTIVES, INCL. ENZYMES  \n",
       "4  ALIMENTARY TRACT AND METABOLISM         DIGESTIVES, INCL. ENZYMES  "
      ]
     },
     "execution_count": 1,
     "metadata": {},
     "output_type": "execute_result"
    }
   ],
   "source": [
    "# Importing necessary libraries\n",
    "import pandas as pd\n",
    "\n",
    "# Load dataset\n",
    "data = pd.read_csv('medeventsATC.csv')\n",
    "\n",
    "# Quick inspection\n",
    "print(\"Dataset Dimensions:\", data.shape)\n",
    "data.head()\n"
   ]
  },
  {
   "cell_type": "markdown",
   "metadata": {},
   "source": [
    "<h2 style=\"color:#4B0082;\">🛠️ Data Preprocessing</h2>\n",
    "<p>We preprocess the data by handling missing values, converting date formats, and ensuring correct data types.</p>\n"
   ]
  },
  {
   "cell_type": "code",
   "execution_count": 2,
   "metadata": {},
   "outputs": [
    {
     "name": "stdout",
     "output_type": "stream",
     "text": [
      "PATIENT_ID     0\n",
      "DATE           0\n",
      "DURATION       0\n",
      "PERDAY         0\n",
      "CATEGORY       0\n",
      "CATEGORY_L1    0\n",
      "CATEGORY_L2    0\n",
      "dtype: int64\n",
      "<class 'pandas.core.frame.DataFrame'>\n",
      "RangeIndex: 1564 entries, 0 to 1563\n",
      "Data columns (total 7 columns):\n",
      " #   Column       Non-Null Count  Dtype         \n",
      "---  ------       --------------  -----         \n",
      " 0   PATIENT_ID   1564 non-null   int64         \n",
      " 1   DATE         1564 non-null   datetime64[ns]\n",
      " 2   DURATION     1564 non-null   float64       \n",
      " 3   PERDAY       1564 non-null   float64       \n",
      " 4   CATEGORY     1564 non-null   object        \n",
      " 5   CATEGORY_L1  1564 non-null   object        \n",
      " 6   CATEGORY_L2  1564 non-null   object        \n",
      "dtypes: datetime64[ns](1), float64(2), int64(1), object(3)\n",
      "memory usage: 85.7+ KB\n"
     ]
    }
   ],
   "source": [
    "# Check for missing values\n",
    "missing_data = data.isnull().sum()\n",
    "print(missing_data)\n",
    "\n",
    "# Convert DATE column to datetime\n",
    "data['DATE'] = pd.to_datetime(data['DATE'], errors='coerce')\n",
    "\n",
    "# Drop critical missing entries\n",
    "data.dropna(subset=['PATIENT_ID', 'DATE', 'DURATION', 'CATEGORY'], inplace=True)\n",
    "\n",
    "# Verify data types after cleaning\n",
    "data.info()\n"
   ]
  }
 ],
 "metadata": {
  "kernelspec": {
   "display_name": "Python 3",
   "language": "python",
   "name": "python3"
  },
  "language_info": {
   "codemirror_mode": {
    "name": "ipython",
    "version": 3
   },
   "file_extension": ".py",
   "mimetype": "text/x-python",
   "name": "python",
   "nbconvert_exporter": "python",
   "pygments_lexer": "ipython3",
   "version": "3.11.9"
  }
 },
 "nbformat": 4,
 "nbformat_minor": 2
}
